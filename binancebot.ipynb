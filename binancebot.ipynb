{
 "cells": [
  {
   "cell_type": "code",
   "execution_count": 2,
   "id": "7d45f3bb-0afd-47ea-b33b-d67d8fae7170",
   "metadata": {},
   "outputs": [
    {
     "name": "stderr",
     "output_type": "stream",
     "text": [
      "\n",
      "\n",
      "====== WebDriver manager ======\n",
      "Current google-chrome version is 101.0.4951\n",
      "Get LATEST chromedriver version for 101.0.4951 google-chrome\n",
      "Driver [C:\\Users\\kofi\\.wdm\\drivers\\chromedriver\\win32\\101.0.4951.41\\chromedriver.exe] found in cache\n",
      "C:\\Users\\kofi\\AppData\\Local\\Temp/ipykernel_6060/1656477037.py:6: DeprecationWarning: executable_path has been deprecated, please pass in a Service object\n",
      "  driver = webdriver.Chrome(ChromeDriverManager().install())\n"
     ]
    }
   ],
   "source": [
    "import time\n",
    "from time import sleep\n",
    "from selenium import webdriver\n",
    "from selenium.webdriver.common.keys import Keys\n",
    "from webdriver_manager.chrome import ChromeDriverManager\n",
    "driver = webdriver.Chrome(ChromeDriverManager().install())\n",
    "import pandas as pd\n",
    "from datetime import datetime\n",
    "\n",
    "time.sleep(5)"
   ]
  },
  {
   "cell_type": "code",
   "execution_count": 3,
   "id": "9e2ac998-ebb8-4f87-abdb-60d0873893da",
   "metadata": {},
   "outputs": [],
   "source": [
    "driver.get(\"https://www.coindesk.com/\")   "
   ]
  },
  {
   "cell_type": "code",
   "execution_count": 4,
   "id": "b4c3f53d-64da-41a8-82af-3609d8b9d00f",
   "metadata": {},
   "outputs": [
    {
     "name": "stderr",
     "output_type": "stream",
     "text": [
      "C:\\Users\\kofi\\AppData\\Local\\Temp/ipykernel_6060/2544303071.py:1: DeprecationWarning: find_element_by_xpath is deprecated. Please use find_element(by=By.XPATH, value=xpath) instead\n",
      "  i = driver.find_element_by_xpath(\"(//body)[1]\")\n"
     ]
    }
   ],
   "source": [
    "i = driver.find_element_by_xpath(\"(//body)[1]\")"
   ]
  },
  {
   "cell_type": "code",
   "execution_count": 6,
   "id": "1accc9d6-3052-411a-a7df-7437780e309c",
   "metadata": {},
   "outputs": [],
   "source": [
    "text = i.text"
   ]
  },
  {
   "cell_type": "code",
   "execution_count": 7,
   "id": "f2ee33ca-ed6f-4c84-8b72-2ecdbace6f14",
   "metadata": {},
   "outputs": [],
   "source": [
    "import itertools\n",
    "#s = \"A B c de F G A\"\n",
    "new_s = [' '.join(b) for a, b in itertools.groupby(text.split(), key=str.isupper) if a]\n"
   ]
  },
  {
   "cell_type": "code",
   "execution_count": 9,
   "id": "2bf260aa-c458-42c3-96f4-4e51078aa428",
   "metadata": {},
   "outputs": [
    {
     "data": {
      "text/plain": [
       "list"
      ]
     },
     "execution_count": 9,
     "metadata": {},
     "output_type": "execute_result"
    }
   ],
   "source": [
    "type(new_s)"
   ]
  },
  {
   "cell_type": "code",
   "execution_count": 10,
   "id": "4cfad349-419b-4a9f-b807-9475cf819513",
   "metadata": {},
   "outputs": [],
   "source": [
    "three_letters = [word for word in new_s if len(word) == 3]"
   ]
  },
  {
   "cell_type": "code",
   "execution_count": 14,
   "id": "d99f2919-5bf3-45c3-a249-aaa45342abb0",
   "metadata": {},
   "outputs": [
    {
     "name": "stdout",
     "output_type": "stream",
     "text": [
      "192.168.43.238\n"
     ]
    }
   ],
   "source": [
    "import socket\n",
    "print(socket.gethostbyname(socket.gethostname()))"
   ]
  },
  {
   "cell_type": "code",
   "execution_count": 175,
   "id": "4c177dcc-1d33-4732-911c-fbc76c4c88ca",
   "metadata": {},
   "outputs": [
    {
     "data": {
      "text/plain": [
       "list"
      ]
     },
     "execution_count": 175,
     "metadata": {},
     "output_type": "execute_result"
    }
   ],
   "source": [
    "type(three_letters)"
   ]
  },
  {
   "cell_type": "code",
   "execution_count": 176,
   "id": "68de0245-17b7-4744-8048-cbe644d3846d",
   "metadata": {},
   "outputs": [],
   "source": [
    "# remove duplicated from list \n",
    "result = [] \n",
    "for i in three_letters: \n",
    "    if i not in result: \n",
    "        result.append(i) "
   ]
  },
  {
   "cell_type": "code",
   "execution_count": 178,
   "id": "d232bafa-92d5-4dba-9eb0-55b6808d51a5",
   "metadata": {},
   "outputs": [
    {
     "data": {
      "text/plain": [
       "list"
      ]
     },
     "execution_count": 178,
     "metadata": {},
     "output_type": "execute_result"
    }
   ],
   "source": [
    "type(result)"
   ]
  },
  {
   "cell_type": "code",
   "execution_count": 15,
   "id": "118a4c92-bf06-4678-9164-5ad31e013381",
   "metadata": {},
   "outputs": [],
   "source": [
    "# import the Binance client from python-binance module\n",
    "from binance.client import Client\n",
    "\n",
    "# import required library for timing our DCA\n",
    "from time import time\n",
    "\n",
    "# define your API key and secret\n",
    "API_KEY = \"Mwu8ktd6Tpeml0uXkLcvEWRKA2UtMJTmANvK3JFkTsoi80XD8TTvhpzs8cE4yQ7u\"\n",
    "API_SECRET = \"Y7B98lU9K5qvObGDVI9ssm70easzCmoxCKwsH10hC2303wIFqLQuefG5v1jAzmVS\"\n",
    "\n",
    "# define the client\n",
    "client = Client (API_KEY, API_SECRET)"
   ]
  },
  {
   "cell_type": "code",
   "execution_count": 186,
   "id": "710a362e-da01-4f5c-8a3a-7487c2538681",
   "metadata": {},
   "outputs": [
    {
     "data": {
      "text/plain": [
       "[['XRP',\n",
       "  'GMT',\n",
       "  'BTC',\n",
       "  'DAO',\n",
       "  'NFT',\n",
       "  'SEC',\n",
       "  '$3M',\n",
       "  'ETH',\n",
       "  'BIS',\n",
       "  'APE',\n",
       "  'FTX',\n",
       "  'ETF',\n",
       "  'NLW',\n",
       "  'CEO',\n",
       "  'DCG'],\n",
       " ['XRP',\n",
       "  'GMT',\n",
       "  'BTC',\n",
       "  'DAO',\n",
       "  'NFT',\n",
       "  'SEC',\n",
       "  '$3M',\n",
       "  'ETH',\n",
       "  'BIS',\n",
       "  'APE',\n",
       "  'FTX',\n",
       "  'ETF',\n",
       "  'NLW',\n",
       "  'CEO',\n",
       "  'DCG'],\n",
       " ['XRP',\n",
       "  'GMT',\n",
       "  'BTC',\n",
       "  'DAO',\n",
       "  'NFT',\n",
       "  'SEC',\n",
       "  '$3M',\n",
       "  'ETH',\n",
       "  'BIS',\n",
       "  'APE',\n",
       "  'FTX',\n",
       "  'ETF',\n",
       "  'NLW',\n",
       "  'CEO',\n",
       "  'DCG'],\n",
       " ['XRP',\n",
       "  'GMT',\n",
       "  'BTC',\n",
       "  'DAO',\n",
       "  'NFT',\n",
       "  'SEC',\n",
       "  '$3M',\n",
       "  'ETH',\n",
       "  'BIS',\n",
       "  'APE',\n",
       "  'FTX',\n",
       "  'ETF',\n",
       "  'NLW',\n",
       "  'CEO',\n",
       "  'DCG'],\n",
       " ['XRP',\n",
       "  'GMT',\n",
       "  'BTC',\n",
       "  'DAO',\n",
       "  'NFT',\n",
       "  'SEC',\n",
       "  '$3M',\n",
       "  'ETH',\n",
       "  'BIS',\n",
       "  'APE',\n",
       "  'FTX',\n",
       "  'ETF',\n",
       "  'NLW',\n",
       "  'CEO',\n",
       "  'DCG'],\n",
       " ['XRP',\n",
       "  'GMT',\n",
       "  'BTC',\n",
       "  'DAO',\n",
       "  'NFT',\n",
       "  'SEC',\n",
       "  '$3M',\n",
       "  'ETH',\n",
       "  'BIS',\n",
       "  'APE',\n",
       "  'FTX',\n",
       "  'ETF',\n",
       "  'NLW',\n",
       "  'CEO',\n",
       "  'DCG'],\n",
       " ['XRP',\n",
       "  'GMT',\n",
       "  'BTC',\n",
       "  'DAO',\n",
       "  'NFT',\n",
       "  'SEC',\n",
       "  '$3M',\n",
       "  'ETH',\n",
       "  'BIS',\n",
       "  'APE',\n",
       "  'FTX',\n",
       "  'ETF',\n",
       "  'NLW',\n",
       "  'CEO',\n",
       "  'DCG'],\n",
       " ['XRP',\n",
       "  'GMT',\n",
       "  'BTC',\n",
       "  'DAO',\n",
       "  'NFT',\n",
       "  'SEC',\n",
       "  '$3M',\n",
       "  'ETH',\n",
       "  'BIS',\n",
       "  'APE',\n",
       "  'FTX',\n",
       "  'ETF',\n",
       "  'NLW',\n",
       "  'CEO',\n",
       "  'DCG'],\n",
       " ['XRP',\n",
       "  'GMT',\n",
       "  'BTC',\n",
       "  'DAO',\n",
       "  'NFT',\n",
       "  'SEC',\n",
       "  '$3M',\n",
       "  'ETH',\n",
       "  'BIS',\n",
       "  'APE',\n",
       "  'FTX',\n",
       "  'ETF',\n",
       "  'NLW',\n",
       "  'CEO',\n",
       "  'DCG'],\n",
       " ['XRP',\n",
       "  'GMT',\n",
       "  'BTC',\n",
       "  'DAO',\n",
       "  'NFT',\n",
       "  'SEC',\n",
       "  '$3M',\n",
       "  'ETH',\n",
       "  'BIS',\n",
       "  'APE',\n",
       "  'FTX',\n",
       "  'ETF',\n",
       "  'NLW',\n",
       "  'CEO',\n",
       "  'DCG'],\n",
       " ['XRP',\n",
       "  'GMT',\n",
       "  'BTC',\n",
       "  'DAO',\n",
       "  'NFT',\n",
       "  'SEC',\n",
       "  '$3M',\n",
       "  'ETH',\n",
       "  'BIS',\n",
       "  'APE',\n",
       "  'FTX',\n",
       "  'ETF',\n",
       "  'NLW',\n",
       "  'CEO',\n",
       "  'DCG'],\n",
       " ['XRP',\n",
       "  'GMT',\n",
       "  'BTC',\n",
       "  'DAO',\n",
       "  'NFT',\n",
       "  'SEC',\n",
       "  '$3M',\n",
       "  'ETH',\n",
       "  'BIS',\n",
       "  'APE',\n",
       "  'FTX',\n",
       "  'ETF',\n",
       "  'NLW',\n",
       "  'CEO',\n",
       "  'DCG'],\n",
       " ['XRP',\n",
       "  'GMT',\n",
       "  'BTC',\n",
       "  'DAO',\n",
       "  'NFT',\n",
       "  'SEC',\n",
       "  '$3M',\n",
       "  'ETH',\n",
       "  'BIS',\n",
       "  'APE',\n",
       "  'FTX',\n",
       "  'ETF',\n",
       "  'NLW',\n",
       "  'CEO',\n",
       "  'DCG'],\n",
       " ['XRP',\n",
       "  'GMT',\n",
       "  'BTC',\n",
       "  'DAO',\n",
       "  'NFT',\n",
       "  'SEC',\n",
       "  '$3M',\n",
       "  'ETH',\n",
       "  'BIS',\n",
       "  'APE',\n",
       "  'FTX',\n",
       "  'ETF',\n",
       "  'NLW',\n",
       "  'CEO',\n",
       "  'DCG']]"
      ]
     },
     "execution_count": 186,
     "metadata": {},
     "output_type": "execute_result"
    }
   ],
   "source": [
    "see"
   ]
  },
  {
   "cell_type": "code",
   "execution_count": 18,
   "id": "a48d36f9-173c-44eb-90ab-820d1f0b1d6d",
   "metadata": {},
   "outputs": [],
   "source": [
    "# You ask for the balance\n",
    "balance= client.get_asset_balance(asset='WTC')"
   ]
  },
  {
   "cell_type": "code",
   "execution_count": 21,
   "id": "97fbd0fb-2df6-4097-a431-454f843549b4",
   "metadata": {},
   "outputs": [
    {
     "data": {
      "text/plain": [
       "dict"
      ]
     },
     "execution_count": 21,
     "metadata": {},
     "output_type": "execute_result"
    }
   ],
   "source": [
    "type(balance)"
   ]
  },
  {
   "cell_type": "code",
   "execution_count": 22,
   "id": "fd2f43d5-1ada-420c-afa8-42f02c34f154",
   "metadata": {},
   "outputs": [],
   "source": [
    "# Converting into list of tuple\n",
    "list = [(k, v) for k, v in balance.items()]"
   ]
  },
  {
   "cell_type": "code",
   "execution_count": 24,
   "id": "658daedf-2cca-4bd9-957f-05d85f86b414",
   "metadata": {},
   "outputs": [
    {
     "data": {
      "text/plain": [
       "list"
      ]
     },
     "execution_count": 24,
     "metadata": {},
     "output_type": "execute_result"
    }
   ],
   "source": [
    "type(list)"
   ]
  },
  {
   "cell_type": "code",
   "execution_count": 33,
   "id": "450bc87a-5e2c-462e-a70c-2e123959929d",
   "metadata": {},
   "outputs": [],
   "source": [
    "we = list[1]"
   ]
  },
  {
   "cell_type": "code",
   "execution_count": 35,
   "id": "c9699a80-760b-421a-9610-2ef90bef6cb2",
   "metadata": {},
   "outputs": [
    {
     "data": {
      "text/plain": [
       "tuple"
      ]
     },
     "execution_count": 35,
     "metadata": {},
     "output_type": "execute_result"
    }
   ],
   "source": [
    "type(we)"
   ]
  },
  {
   "cell_type": "code",
   "execution_count": 36,
   "id": "5c290371-3c8d-46ca-99ca-81d839e3f195",
   "metadata": {},
   "outputs": [],
   "source": [
    "def convertTuple(tup):\n",
    "    str = ''.join(tup)\n",
    "    return str\n",
    " \n",
    " \n",
    "# Driver code\n",
    "\n",
    "str = convertTuple(we)\n"
   ]
  },
  {
   "cell_type": "code",
   "execution_count": 38,
   "id": "81da5435-c213-46b5-9174-c8721efd90e9",
   "metadata": {},
   "outputs": [
    {
     "data": {
      "text/plain": [
       "str"
      ]
     },
     "execution_count": 38,
     "metadata": {},
     "output_type": "execute_result"
    }
   ],
   "source": [
    "type(str)"
   ]
  },
  {
   "cell_type": "code",
   "execution_count": 41,
   "id": "c2a04f38-8571-41f1-8201-4302c30cace7",
   "metadata": {},
   "outputs": [],
   "source": [
    "import re\n",
    "fl = re.findall(\"\\d+\\.\\d+\", str)"
   ]
  },
  {
   "cell_type": "code",
   "execution_count": 42,
   "id": "8de0e14e-2735-48ad-82a3-07a38ce798b7",
   "metadata": {},
   "outputs": [
    {
     "data": {
      "text/plain": [
       "list"
      ]
     },
     "execution_count": 42,
     "metadata": {},
     "output_type": "execute_result"
    }
   ],
   "source": [
    "type(fl)"
   ]
  },
  {
   "cell_type": "code",
   "execution_count": 43,
   "id": "d0faa4f7-40e2-444c-8b99-06166a4d3c42",
   "metadata": {},
   "outputs": [
    {
     "data": {
      "text/plain": [
       "['521.00000000']"
      ]
     },
     "execution_count": 43,
     "metadata": {},
     "output_type": "execute_result"
    }
   ],
   "source": [
    "fl"
   ]
  },
  {
   "cell_type": "code",
   "execution_count": 44,
   "id": "648590ac-090f-4270-93e7-24ca65c68b56",
   "metadata": {},
   "outputs": [],
   "source": [
    "# Convert Float String List to Float Values\n",
    "# Using float() + list comprehension\n",
    "res = [float(ele) for ele in fl]"
   ]
  },
  {
   "cell_type": "code",
   "execution_count": 45,
   "id": "ece1cccf-7adc-455f-b859-fea7bead8120",
   "metadata": {},
   "outputs": [
    {
     "data": {
      "text/plain": [
       "[521.0]"
      ]
     },
     "execution_count": 45,
     "metadata": {},
     "output_type": "execute_result"
    }
   ],
   "source": [
    "res"
   ]
  },
  {
   "cell_type": "code",
   "execution_count": 46,
   "id": "71280de1-eeb9-4a43-9de0-c4a3a219b1f2",
   "metadata": {},
   "outputs": [
    {
     "data": {
      "text/plain": [
       "list"
      ]
     },
     "execution_count": 46,
     "metadata": {},
     "output_type": "execute_result"
    }
   ],
   "source": [
    "type(res)"
   ]
  },
  {
   "cell_type": "code",
   "execution_count": 53,
   "id": "a7412068-724f-431a-8207-aaba20b5cdb8",
   "metadata": {},
   "outputs": [
    {
     "data": {
      "text/plain": [
       "float"
      ]
     },
     "execution_count": 53,
     "metadata": {},
     "output_type": "execute_result"
    }
   ],
   "source": [
    "type(res[0])"
   ]
  },
  {
   "cell_type": "code",
   "execution_count": 54,
   "id": "febdc3f3-ef1a-48d8-ba55-26407603631e",
   "metadata": {},
   "outputs": [],
   "source": [
    "value = res[0]"
   ]
  },
  {
   "cell_type": "code",
   "execution_count": 55,
   "id": "c17aed07-a61a-4d7e-a77c-2fc8b119233b",
   "metadata": {},
   "outputs": [
    {
     "data": {
      "text/plain": [
       "float"
      ]
     },
     "execution_count": 55,
     "metadata": {},
     "output_type": "execute_result"
    }
   ],
   "source": [
    "type(value)"
   ]
  },
  {
   "cell_type": "code",
   "execution_count": 66,
   "id": "18e3a5ce-73a9-485d-a843-24eaeb9863ca",
   "metadata": {},
   "outputs": [],
   "source": [
    "# set the percentage or fraction you want to invest in each order\n",
    "portion = float(balance['free']) * 0.5"
   ]
  },
  {
   "cell_type": "code",
   "execution_count": 109,
   "id": "d6a81791-1cb6-40fc-82e8-36229ad0e54a",
   "metadata": {},
   "outputs": [
    {
     "data": {
      "text/plain": [
       "260.5"
      ]
     },
     "execution_count": 109,
     "metadata": {},
     "output_type": "execute_result"
    }
   ],
   "source": [
    "portion"
   ]
  },
  {
   "cell_type": "code",
   "execution_count": 110,
   "id": "19d071c3-bb5f-431f-a30c-b19c9da66257",
   "metadata": {},
   "outputs": [],
   "source": [
    "symbols = \"WTCBTC\""
   ]
  },
  {
   "cell_type": "code",
   "execution_count": null,
   "id": "d435e497-cf62-44f2-aa81-5846255bc2a3",
   "metadata": {},
   "outputs": [],
   "source": [
    "def check_decimals(symbol):\n",
    "    info = client.get_symbol_info(symbol)\n",
    "    val = info['filters'][2]['stepSize']\n",
    "    decimal = 0\n",
    "    is_dec = False\n",
    "    for c in val:\n",
    "        if is_dec is True:\n",
    "            decimal += 1\n",
    "        if c == '1':\n",
    "            break\n",
    "        if c == '.':\n",
    "            is_dec = True\n",
    "    return decimal"
   ]
  },
  {
   "cell_type": "code",
   "execution_count": 112,
   "id": "c059b4de-0832-4bce-bd8d-13abef3a365e",
   "metadata": {},
   "outputs": [],
   "source": [
    "klines = client.get_historical_klines(\"BRDBTC\", Client.KLINE_INTERVAL_1MINUTE, \"1 day ago UTC\")"
   ]
  },
  {
   "cell_type": "code",
   "execution_count": 113,
   "id": "4dbae098-cf07-4b3d-8b1b-64aef37b86ee",
   "metadata": {},
   "outputs": [],
   "source": [
    "i = klines[0]"
   ]
  },
  {
   "cell_type": "code",
   "execution_count": 114,
   "id": "d685657e-4886-450b-a2d6-76b6463d5757",
   "metadata": {},
   "outputs": [],
   "source": [
    "ok = i[1]"
   ]
  },
  {
   "cell_type": "code",
   "execution_count": 115,
   "id": "66204bd6-8beb-4e31-8248-c03c3b752d9d",
   "metadata": {},
   "outputs": [
    {
     "data": {
      "text/plain": [
       "str"
      ]
     },
     "execution_count": 115,
     "metadata": {},
     "output_type": "execute_result"
    }
   ],
   "source": [
    "type(ok)"
   ]
  },
  {
   "cell_type": "code",
   "execution_count": 116,
   "id": "ecc2960d-1913-4f68-afb4-1abea1378826",
   "metadata": {},
   "outputs": [],
   "source": [
    "symbol_price = float(ok)"
   ]
  },
  {
   "cell_type": "code",
   "execution_count": 120,
   "id": "1f4d2433-49e7-4628-b0bd-b7c081f6dc60",
   "metadata": {},
   "outputs": [
    {
     "data": {
      "text/plain": [
       "float"
      ]
     },
     "execution_count": 120,
     "metadata": {},
     "output_type": "execute_result"
    }
   ],
   "source": [
    "type(symbol_price)"
   ]
  },
  {
   "cell_type": "code",
   "execution_count": 122,
   "id": "a5040877-2af2-4920-afe8-c01976d7bea6",
   "metadata": {},
   "outputs": [
    {
     "data": {
      "text/plain": [
       "str"
      ]
     },
     "execution_count": 122,
     "metadata": {},
     "output_type": "execute_result"
    }
   ],
   "source": [
    "type(ok)"
   ]
  },
  {
   "cell_type": "code",
   "execution_count": 135,
   "id": "78292175-86e3-4735-9273-fd3c6336b408",
   "metadata": {},
   "outputs": [
    {
     "data": {
      "text/plain": [
       "260.5"
      ]
     },
     "execution_count": 135,
     "metadata": {},
     "output_type": "execute_result"
    }
   ],
   "source": [
    "portion"
   ]
  },
  {
   "cell_type": "code",
   "execution_count": 142,
   "id": "4947e722-b9f6-4150-b74f-c835109c075f",
   "metadata": {},
   "outputs": [],
   "source": [
    "import math\n",
    "\n",
    "check = math.floor(portion)\n",
    "# Returns: 12"
   ]
  },
  {
   "cell_type": "code",
   "execution_count": 143,
   "id": "226afeff-a7da-4a11-b0a9-1e8472a8fc5e",
   "metadata": {},
   "outputs": [
    {
     "data": {
      "text/plain": [
       "int"
      ]
     },
     "execution_count": 143,
     "metadata": {},
     "output_type": "execute_result"
    }
   ],
   "source": [
    "type(check)"
   ]
  },
  {
   "cell_type": "code",
   "execution_count": 144,
   "id": "0670613c-0799-41dc-9b3d-d538e2bc4583",
   "metadata": {},
   "outputs": [],
   "source": [
    "qty = float(check)"
   ]
  },
  {
   "cell_type": "code",
   "execution_count": 128,
   "id": "7bb93622-bb2a-412c-b756-e01bebf3e54b",
   "metadata": {},
   "outputs": [
    {
     "data": {
      "text/plain": [
       "3.64e-06"
      ]
     },
     "execution_count": 128,
     "metadata": {},
     "output_type": "execute_result"
    }
   ],
   "source": [
    "symbol_price"
   ]
  },
  {
   "cell_type": "code",
   "execution_count": 118,
   "id": "0188700b-4110-46fc-a19a-5904903c4e13",
   "metadata": {},
   "outputs": [],
   "source": [
    "from decimal import Decimal as D, ROUND_DOWN, ROUND_UP\n",
    "import decimal"
   ]
  },
  {
   "cell_type": "code",
   "execution_count": 138,
   "id": "12c4204c-7e4f-402f-bd7b-3bb07596f331",
   "metadata": {},
   "outputs": [],
   "source": [
    "order = client.order_limit_sell(\n",
    "    symbol=symbols,\n",
    "    quantity=qty,\n",
    "    price=ok)\n",
    "\n",
    "#order = client.order_limit_sell(\n",
    "    #symbol='BNBBTC',\n",
    "    #quantity=100,\n",
    "    #price='0.00001')"
   ]
  },
  {
   "cell_type": "code",
   "execution_count": 132,
   "id": "9aa62c48-9909-4691-95b5-28b0be9d3dbb",
   "metadata": {},
   "outputs": [
    {
     "data": {
      "text/plain": [
       "{'symbol': 'WTCBTC',\n",
       " 'status': 'TRADING',\n",
       " 'baseAsset': 'WTC',\n",
       " 'baseAssetPrecision': 8,\n",
       " 'quoteAsset': 'BTC',\n",
       " 'quotePrecision': 8,\n",
       " 'quoteAssetPrecision': 8,\n",
       " 'baseCommissionPrecision': 8,\n",
       " 'quoteCommissionPrecision': 8,\n",
       " 'orderTypes': ['LIMIT',\n",
       "  'LIMIT_MAKER',\n",
       "  'MARKET',\n",
       "  'STOP_LOSS_LIMIT',\n",
       "  'TAKE_PROFIT_LIMIT'],\n",
       " 'icebergAllowed': True,\n",
       " 'ocoAllowed': True,\n",
       " 'quoteOrderQtyMarketAllowed': True,\n",
       " 'allowTrailingStop': False,\n",
       " 'isSpotTradingAllowed': True,\n",
       " 'isMarginTradingAllowed': False,\n",
       " 'filters': [{'filterType': 'PRICE_FILTER',\n",
       "   'minPrice': '0.00000001',\n",
       "   'maxPrice': '1000.00000000',\n",
       "   'tickSize': '0.00000001'},\n",
       "  {'filterType': 'PERCENT_PRICE',\n",
       "   'multiplierUp': '5',\n",
       "   'multiplierDown': '0.2',\n",
       "   'avgPriceMins': 5},\n",
       "  {'filterType': 'LOT_SIZE',\n",
       "   'minQty': '1.00000000',\n",
       "   'maxQty': '9000000.00000000',\n",
       "   'stepSize': '1.00000000'},\n",
       "  {'filterType': 'MIN_NOTIONAL',\n",
       "   'minNotional': '0.00010000',\n",
       "   'applyToMarket': True,\n",
       "   'avgPriceMins': 5},\n",
       "  {'filterType': 'ICEBERG_PARTS', 'limit': 10},\n",
       "  {'filterType': 'MARKET_LOT_SIZE',\n",
       "   'minQty': '0.00000000',\n",
       "   'maxQty': '59212.87000000',\n",
       "   'stepSize': '0.00000000'},\n",
       "  {'filterType': 'TRAILING_DELTA',\n",
       "   'minTrailingAboveDelta': 10,\n",
       "   'maxTrailingAboveDelta': 2000,\n",
       "   'minTrailingBelowDelta': 10,\n",
       "   'maxTrailingBelowDelta': 2000},\n",
       "  {'filterType': 'MAX_NUM_ORDERS', 'maxNumOrders': 200},\n",
       "  {'filterType': 'MAX_NUM_ALGO_ORDERS', 'maxNumAlgoOrders': 5}],\n",
       " 'permissions': ['SPOT']}"
      ]
     },
     "execution_count": 132,
     "metadata": {},
     "output_type": "execute_result"
    }
   ],
   "source": [
    "info = client.get_symbol_info(symbols)\n",
    "info"
   ]
  },
  {
   "cell_type": "code",
   "execution_count": 147,
   "id": "d15f1a12-80f2-402f-b400-8be3e11b6d0a",
   "metadata": {},
   "outputs": [
    {
     "name": "stdout",
     "output_type": "stream",
     "text": [
      "apple\n",
      "banana\n",
      "cherry\n"
     ]
    }
   ],
   "source": [
    "thislist = [\"apple\", \"banana\", \"cherry\"]\n",
    "i = 0\n",
    "while i < len(thislist):\n",
    "  print(thislist[i])\n",
    "  i = i + 1"
   ]
  },
  {
   "cell_type": "code",
   "execution_count": 153,
   "id": "1531ebb3-e323-400c-96d3-14779e883ba5",
   "metadata": {},
   "outputs": [],
   "source": [
    "my_list = [\"Hello\", \"World\"]\n",
    "for i in my_list:\n",
    "    yu = \"kwaku\" + i\n",
    "#"
   ]
  },
  {
   "cell_type": "code",
   "execution_count": 156,
   "id": "db85e6ed-4582-4ef4-aa24-359910be4088",
   "metadata": {},
   "outputs": [],
   "source": [
    "list = [1, 3, 5, 7, 9]\n",
    "\n",
    "# Using enumerate() function to iterate the list\n",
    "for i, val in enumerate(list):\n",
    "    tu = float('7')+val"
   ]
  },
  {
   "cell_type": "code",
   "execution_count": 157,
   "id": "6634e23e-84d6-4099-949f-6f22f19f0c9e",
   "metadata": {},
   "outputs": [
    {
     "data": {
      "text/plain": [
       "16.0"
      ]
     },
     "execution_count": 157,
     "metadata": {},
     "output_type": "execute_result"
    }
   ],
   "source": [
    "tu"
   ]
  },
  {
   "cell_type": "code",
   "execution_count": 159,
   "id": "802e286d-be32-4ce4-b593-949f6d46d107",
   "metadata": {},
   "outputs": [
    {
     "name": "stdout",
     "output_type": "stream",
     "text": [
      "[100.0, 50.0, 33.33333333333333, 25.0, 20.0]\n"
     ]
    }
   ],
   "source": [
    "equity = [1,2,3,4,5,6]\n",
    "equity_percentages = []\n",
    "\n",
    "i = 1\n",
    "while i < len(equity):\n",
    "    equity_percentages.append(((equity[i] - equity[i-1])/equity[i-1])*100)\n",
    "    i += 1\n",
    "\n",
    "print(equity_percentages)"
   ]
  },
  {
   "cell_type": "code",
   "execution_count": 189,
   "id": "22fb8c06-52e0-417e-bf26-9805e7c5a1de",
   "metadata": {},
   "outputs": [],
   "source": [
    "key = [1,2,3,4,5,6]\n",
    "see = []\n",
    "\n",
    "i=1\n",
    "while i < len(key):\n",
    "    see.append(i)\n",
    "    i += 1"
   ]
  },
  {
   "cell_type": "code",
   "execution_count": 190,
   "id": "81781b10-287f-4db7-8831-6a76d425d26e",
   "metadata": {},
   "outputs": [
    {
     "data": {
      "text/plain": [
       "[1, 2, 3, 4, 5]"
      ]
     },
     "execution_count": 190,
     "metadata": {},
     "output_type": "execute_result"
    }
   ],
   "source": [
    "see"
   ]
  },
  {
   "cell_type": "code",
   "execution_count": 194,
   "id": "99882405-f74f-4f8c-8415-6ddc04535f86",
   "metadata": {},
   "outputs": [
    {
     "ename": "TypeError",
     "evalue": "can only concatenate str (not \"int\") to str",
     "output_type": "error",
     "traceback": [
      "\u001b[1;31m---------------------------------------------------------------------------\u001b[0m",
      "\u001b[1;31mTypeError\u001b[0m                                 Traceback (most recent call last)",
      "\u001b[1;32m~\\AppData\\Local\\Temp/ipykernel_6060/911464221.py\u001b[0m in \u001b[0;36m<module>\u001b[1;34m\u001b[0m\n\u001b[0;32m      4\u001b[0m \u001b[1;33m\u001b[0m\u001b[0m\n\u001b[0;32m      5\u001b[0m \u001b[1;32mwhile\u001b[0m \u001b[0mi\u001b[0m \u001b[1;33m<\u001b[0m \u001b[0mlen\u001b[0m\u001b[1;33m(\u001b[0m\u001b[0mequity\u001b[0m\u001b[1;33m)\u001b[0m\u001b[1;33m:\u001b[0m\u001b[1;33m\u001b[0m\u001b[1;33m\u001b[0m\u001b[0m\n\u001b[1;32m----> 6\u001b[1;33m     \u001b[0msee\u001b[0m\u001b[1;33m.\u001b[0m\u001b[0mappend\u001b[0m\u001b[1;33m(\u001b[0m\u001b[1;34m'city'\u001b[0m\u001b[1;33m+\u001b[0m\u001b[0mi\u001b[0m\u001b[1;33m)\u001b[0m\u001b[1;33m\u001b[0m\u001b[1;33m\u001b[0m\u001b[0m\n\u001b[0m\u001b[0;32m      7\u001b[0m \u001b[1;33m\u001b[0m\u001b[0m\n",
      "\u001b[1;31mTypeError\u001b[0m: can only concatenate str (not \"int\") to str"
     ]
    }
   ],
   "source": [
    "key = ['hh', 'yy', 'pp']\n",
    "see = []\n",
    "\n",
    "\n",
    "while i < len(equity):\n",
    "    see.append('city'+i)\n",
    "    "
   ]
  },
  {
   "cell_type": "code",
   "execution_count": null,
   "id": "0743785a-1de9-4f9e-9291-adf23861090b",
   "metadata": {},
   "outputs": [],
   "source": []
  }
 ],
 "metadata": {
  "kernelspec": {
   "display_name": "Python 3 (ipykernel)",
   "language": "python",
   "name": "python3"
  },
  "language_info": {
   "codemirror_mode": {
    "name": "ipython",
    "version": 3
   },
   "file_extension": ".py",
   "mimetype": "text/x-python",
   "name": "python",
   "nbconvert_exporter": "python",
   "pygments_lexer": "ipython3",
   "version": "3.9.7"
  }
 },
 "nbformat": 4,
 "nbformat_minor": 5
}
