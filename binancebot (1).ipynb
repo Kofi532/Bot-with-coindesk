{
 "cells": [
  {
   "cell_type": "code",
   "execution_count": 1,
   "id": "7d45f3bb-0afd-47ea-b33b-d67d8fae7170",
   "metadata": {},
   "outputs": [
    {
     "name": "stderr",
     "output_type": "stream",
     "text": [
      "\n",
      "\n",
      "====== WebDriver manager ======\n",
      "Current google-chrome version is 101.0.4951\n",
      "Get LATEST chromedriver version for 101.0.4951 google-chrome\n",
      "Driver [C:\\Users\\kofi\\.wdm\\drivers\\chromedriver\\win32\\101.0.4951.41\\chromedriver.exe] found in cache\n",
      "C:\\Users\\kofi\\AppData\\Local\\Temp/ipykernel_8916/1656477037.py:6: DeprecationWarning: executable_path has been deprecated, please pass in a Service object\n",
      "  driver = webdriver.Chrome(ChromeDriverManager().install())\n"
     ]
    }
   ],
   "source": [
    "import time\n",
    "from time import sleep\n",
    "from selenium import webdriver\n",
    "from selenium.webdriver.common.keys import Keys\n",
    "from webdriver_manager.chrome import ChromeDriverManager\n",
    "driver = webdriver.Chrome(ChromeDriverManager().install())\n",
    "import pandas as pd\n",
    "from datetime import datetime\n",
    "\n",
    "time.sleep(5)"
   ]
  },
  {
   "cell_type": "code",
   "execution_count": 2,
   "id": "9e2ac998-ebb8-4f87-abdb-60d0873893da",
   "metadata": {},
   "outputs": [],
   "source": [
    "driver.get(\"https://www.coindesk.com/\")   "
   ]
  },
  {
   "cell_type": "code",
   "execution_count": 3,
   "id": "b4c3f53d-64da-41a8-82af-3609d8b9d00f",
   "metadata": {},
   "outputs": [
    {
     "name": "stderr",
     "output_type": "stream",
     "text": [
      "C:\\Users\\kofi\\AppData\\Local\\Temp/ipykernel_8916/2544303071.py:1: DeprecationWarning: find_element_by_xpath is deprecated. Please use find_element(by=By.XPATH, value=xpath) instead\n",
      "  i = driver.find_element_by_xpath(\"(//body)[1]\")\n"
     ]
    }
   ],
   "source": [
    "i = driver.find_element_by_xpath(\"(//body)[1]\")"
   ]
  },
  {
   "cell_type": "code",
   "execution_count": 4,
   "id": "1accc9d6-3052-411a-a7df-7437780e309c",
   "metadata": {},
   "outputs": [],
   "source": [
    "text = i.text"
   ]
  },
  {
   "cell_type": "code",
   "execution_count": 12,
   "id": "f2ee33ca-ed6f-4c84-8b72-2ecdbace6f14",
   "metadata": {},
   "outputs": [],
   "source": [
    "import itertools\n",
    "#s = \"A B c de F G A\"\n",
    "new_s = [' '.join(b) for a, b in itertools.groupby(text.split(), key=str.isupper) if a]\n"
   ]
  },
  {
   "cell_type": "code",
   "execution_count": 13,
   "id": "2bf260aa-c458-42c3-96f4-4e51078aa428",
   "metadata": {},
   "outputs": [
    {
     "data": {
      "text/plain": [
       "list"
      ]
     },
     "execution_count": 13,
     "metadata": {},
     "output_type": "execute_result"
    }
   ],
   "source": [
    "type(new_s)"
   ]
  },
  {
   "cell_type": "code",
   "execution_count": 14,
   "id": "4cfad349-419b-4a9f-b807-9475cf819513",
   "metadata": {},
   "outputs": [],
   "source": [
    "three_letters = [word for word in new_s if len(word) == 3]"
   ]
  },
  {
   "cell_type": "code",
   "execution_count": 15,
   "id": "d99f2919-5bf3-45c3-a249-aaa45342abb0",
   "metadata": {},
   "outputs": [
    {
     "name": "stdout",
     "output_type": "stream",
     "text": [
      "192.168.43.238\n"
     ]
    }
   ],
   "source": [
    "import socket\n",
    "print(socket.gethostbyname(socket.gethostname()))"
   ]
  },
  {
   "cell_type": "code",
   "execution_count": 16,
   "id": "4c177dcc-1d33-4732-911c-fbc76c4c88ca",
   "metadata": {},
   "outputs": [
    {
     "data": {
      "text/plain": [
       "list"
      ]
     },
     "execution_count": 16,
     "metadata": {},
     "output_type": "execute_result"
    }
   ],
   "source": [
    "type(three_letters)"
   ]
  },
  {
   "cell_type": "code",
   "execution_count": 17,
   "id": "68de0245-17b7-4744-8048-cbe644d3846d",
   "metadata": {},
   "outputs": [],
   "source": [
    "# remove duplicated from list \n",
    "result = [] \n",
    "for i in three_letters: \n",
    "    if i not in result: \n",
    "        result.append(i) "
   ]
  },
  {
   "cell_type": "code",
   "execution_count": 124,
   "id": "d232bafa-92d5-4dba-9eb0-55b6808d51a5",
   "metadata": {},
   "outputs": [
    {
     "data": {
      "text/plain": [
       "['XRP',\n",
       " 'GMT',\n",
       " 'BTC',\n",
       " 'NFT',\n",
       " 'DAO',\n",
       " 'SEC',\n",
       " '$3M',\n",
       " 'ETH',\n",
       " 'BIS',\n",
       " 'APE',\n",
       " 'FTX',\n",
       " 'ETF',\n",
       " 'NLW',\n",
       " 'DCG']"
      ]
     },
     "execution_count": 124,
     "metadata": {},
     "output_type": "execute_result"
    }
   ],
   "source": [
    "result\n"
   ]
  },
  {
   "cell_type": "code",
   "execution_count": 132,
   "id": "1de21cd8-eede-4c07-9182-42de9cec8473",
   "metadata": {},
   "outputs": [],
   "source": [
    "i = len(result)"
   ]
  },
  {
   "cell_type": "code",
   "execution_count": 131,
   "id": "781eec2e-6184-4af2-b89f-0ec18d49d151",
   "metadata": {},
   "outputs": [
    {
     "data": {
      "text/plain": [
       "12"
      ]
     },
     "execution_count": 131,
     "metadata": {},
     "output_type": "execute_result"
    }
   ],
   "source": []
  },
  {
   "cell_type": "code",
   "execution_count": 20,
   "id": "118a4c92-bf06-4678-9164-5ad31e013381",
   "metadata": {},
   "outputs": [],
   "source": [
    "# import the Binance client from python-binance module\n",
    "from binance.client import Client\n",
    "\n",
    "# import required library for timing our DCA\n",
    "from time import time\n",
    "\n",
    "# define your API key and secret\n",
    "API_KEY = \"Mwu8ktd6Tpeml0uXkLcvEWRKA2UtMJTmANvK3JFkTsoi80XD8TTvhpzs8cE4yQ7u\"\n",
    "API_SECRET = \"Y7B98lU9K5qvObGDVI9ssm70easzCmoxCKwsH10hC2303wIFqLQuefG5v1jAzmVS\"\n",
    "\n",
    "# define the client\n",
    "client = Client (API_KEY, API_SECRET)"
   ]
  },
  {
   "cell_type": "code",
   "execution_count": 21,
   "id": "a48d36f9-173c-44eb-90ab-820d1f0b1d6d",
   "metadata": {},
   "outputs": [],
   "source": [
    "# You ask for the balance\n",
    "balance= client.get_asset_balance(asset='WTC')"
   ]
  },
  {
   "cell_type": "code",
   "execution_count": 22,
   "id": "97fbd0fb-2df6-4097-a431-454f843549b4",
   "metadata": {},
   "outputs": [
    {
     "data": {
      "text/plain": [
       "dict"
      ]
     },
     "execution_count": 22,
     "metadata": {},
     "output_type": "execute_result"
    }
   ],
   "source": [
    "type(balance)"
   ]
  },
  {
   "cell_type": "code",
   "execution_count": 23,
   "id": "fd2f43d5-1ada-420c-afa8-42f02c34f154",
   "metadata": {},
   "outputs": [],
   "source": [
    "# Converting into list of tuple\n",
    "list = [(k, v) for k, v in balance.items()]"
   ]
  },
  {
   "cell_type": "code",
   "execution_count": 24,
   "id": "658daedf-2cca-4bd9-957f-05d85f86b414",
   "metadata": {},
   "outputs": [
    {
     "data": {
      "text/plain": [
       "list"
      ]
     },
     "execution_count": 24,
     "metadata": {},
     "output_type": "execute_result"
    }
   ],
   "source": [
    "type(list)"
   ]
  },
  {
   "cell_type": "code",
   "execution_count": 25,
   "id": "450bc87a-5e2c-462e-a70c-2e123959929d",
   "metadata": {},
   "outputs": [],
   "source": [
    "we = list[1]"
   ]
  },
  {
   "cell_type": "code",
   "execution_count": 26,
   "id": "c9699a80-760b-421a-9610-2ef90bef6cb2",
   "metadata": {},
   "outputs": [
    {
     "data": {
      "text/plain": [
       "tuple"
      ]
     },
     "execution_count": 26,
     "metadata": {},
     "output_type": "execute_result"
    }
   ],
   "source": [
    "type(we)"
   ]
  },
  {
   "cell_type": "code",
   "execution_count": 27,
   "id": "5c290371-3c8d-46ca-99ca-81d839e3f195",
   "metadata": {},
   "outputs": [],
   "source": [
    "def convertTuple(tup):\n",
    "    str = ''.join(tup)\n",
    "    return str\n",
    " \n",
    " \n",
    "# Driver code\n",
    "\n",
    "str = convertTuple(we)\n"
   ]
  },
  {
   "cell_type": "code",
   "execution_count": 28,
   "id": "81da5435-c213-46b5-9174-c8721efd90e9",
   "metadata": {},
   "outputs": [
    {
     "data": {
      "text/plain": [
       "str"
      ]
     },
     "execution_count": 28,
     "metadata": {},
     "output_type": "execute_result"
    }
   ],
   "source": [
    "type(str)"
   ]
  },
  {
   "cell_type": "code",
   "execution_count": 29,
   "id": "c2a04f38-8571-41f1-8201-4302c30cace7",
   "metadata": {},
   "outputs": [],
   "source": [
    "import re\n",
    "fl = re.findall(\"\\d+\\.\\d+\", str)"
   ]
  },
  {
   "cell_type": "code",
   "execution_count": 30,
   "id": "8de0e14e-2735-48ad-82a3-07a38ce798b7",
   "metadata": {},
   "outputs": [
    {
     "data": {
      "text/plain": [
       "list"
      ]
     },
     "execution_count": 30,
     "metadata": {},
     "output_type": "execute_result"
    }
   ],
   "source": [
    "type(fl)"
   ]
  },
  {
   "cell_type": "code",
   "execution_count": 31,
   "id": "d0faa4f7-40e2-444c-8b99-06166a4d3c42",
   "metadata": {},
   "outputs": [
    {
     "data": {
      "text/plain": [
       "['261.00000000']"
      ]
     },
     "execution_count": 31,
     "metadata": {},
     "output_type": "execute_result"
    }
   ],
   "source": [
    "fl"
   ]
  },
  {
   "cell_type": "code",
   "execution_count": 32,
   "id": "648590ac-090f-4270-93e7-24ca65c68b56",
   "metadata": {},
   "outputs": [],
   "source": [
    "# Convert Float String List to Float Values\n",
    "# Using float() + list comprehension\n",
    "res = [float(ele) for ele in fl]"
   ]
  },
  {
   "cell_type": "code",
   "execution_count": 33,
   "id": "ece1cccf-7adc-455f-b859-fea7bead8120",
   "metadata": {},
   "outputs": [
    {
     "data": {
      "text/plain": [
       "[261.0]"
      ]
     },
     "execution_count": 33,
     "metadata": {},
     "output_type": "execute_result"
    }
   ],
   "source": [
    "res"
   ]
  },
  {
   "cell_type": "code",
   "execution_count": 34,
   "id": "71280de1-eeb9-4a43-9de0-c4a3a219b1f2",
   "metadata": {},
   "outputs": [
    {
     "data": {
      "text/plain": [
       "list"
      ]
     },
     "execution_count": 34,
     "metadata": {},
     "output_type": "execute_result"
    }
   ],
   "source": [
    "type(res)"
   ]
  },
  {
   "cell_type": "code",
   "execution_count": 35,
   "id": "a7412068-724f-431a-8207-aaba20b5cdb8",
   "metadata": {},
   "outputs": [
    {
     "data": {
      "text/plain": [
       "float"
      ]
     },
     "execution_count": 35,
     "metadata": {},
     "output_type": "execute_result"
    }
   ],
   "source": [
    "type(res[0])"
   ]
  },
  {
   "cell_type": "code",
   "execution_count": 36,
   "id": "febdc3f3-ef1a-48d8-ba55-26407603631e",
   "metadata": {},
   "outputs": [],
   "source": [
    "value = res[0]"
   ]
  },
  {
   "cell_type": "code",
   "execution_count": 37,
   "id": "c17aed07-a61a-4d7e-a77c-2fc8b119233b",
   "metadata": {},
   "outputs": [
    {
     "data": {
      "text/plain": [
       "float"
      ]
     },
     "execution_count": 37,
     "metadata": {},
     "output_type": "execute_result"
    }
   ],
   "source": [
    "type(value)"
   ]
  },
  {
   "cell_type": "code",
   "execution_count": 78,
   "id": "18e3a5ce-73a9-485d-a843-24eaeb9863ca",
   "metadata": {},
   "outputs": [],
   "source": [
    "# set the percentage or fraction you want to invest in each order\n",
    "portion = float(balance['free']) * 0.05"
   ]
  },
  {
   "cell_type": "code",
   "execution_count": 79,
   "id": "d6a81791-1cb6-40fc-82e8-36229ad0e54a",
   "metadata": {},
   "outputs": [
    {
     "data": {
      "text/plain": [
       "13.05"
      ]
     },
     "execution_count": 79,
     "metadata": {},
     "output_type": "execute_result"
    }
   ],
   "source": [
    "portion"
   ]
  },
  {
   "cell_type": "code",
   "execution_count": 147,
   "id": "19d071c3-bb5f-431f-a30c-b19c9da66257",
   "metadata": {},
   "outputs": [],
   "source": [
    "symbols = \"WTCBTC\""
   ]
  },
  {
   "cell_type": "code",
   "execution_count": 148,
   "id": "385db825-5410-4b60-a720-ed4ed3631557",
   "metadata": {},
   "outputs": [
    {
     "data": {
      "text/plain": [
       "str"
      ]
     },
     "execution_count": 148,
     "metadata": {},
     "output_type": "execute_result"
    }
   ],
   "source": [
    "type(symbols)"
   ]
  },
  {
   "cell_type": "code",
   "execution_count": 81,
   "id": "d435e497-cf62-44f2-aa81-5846255bc2a3",
   "metadata": {},
   "outputs": [],
   "source": [
    "def check_decimals(symbol):\n",
    "    info = client.get_symbol_info(symbol)\n",
    "    val = info['filters'][2]['stepSize']\n",
    "    decimal = 0\n",
    "    is_dec = False\n",
    "    for c in val:\n",
    "        if is_dec is True:\n",
    "            decimal += 1\n",
    "        if c == '1':\n",
    "            break\n",
    "        if c == '.':\n",
    "            is_dec = True\n",
    "    return decimal"
   ]
  },
  {
   "cell_type": "code",
   "execution_count": 82,
   "id": "c059b4de-0832-4bce-bd8d-13abef3a365e",
   "metadata": {},
   "outputs": [],
   "source": [
    "klines = client.get_historical_klines(\"WTCBTC\", Client.KLINE_INTERVAL_1MINUTE, \"1 minute ago UTC\")"
   ]
  },
  {
   "cell_type": "code",
   "execution_count": 83,
   "id": "4dbae098-cf07-4b3d-8b1b-64aef37b86ee",
   "metadata": {},
   "outputs": [],
   "source": [
    "i = klines[0]"
   ]
  },
  {
   "cell_type": "code",
   "execution_count": 84,
   "id": "d685657e-4886-450b-a2d6-76b6463d5757",
   "metadata": {},
   "outputs": [],
   "source": [
    "ok = i[1]"
   ]
  },
  {
   "cell_type": "code",
   "execution_count": 85,
   "id": "66204bd6-8beb-4e31-8248-c03c3b752d9d",
   "metadata": {},
   "outputs": [
    {
     "data": {
      "text/plain": [
       "str"
      ]
     },
     "execution_count": 85,
     "metadata": {},
     "output_type": "execute_result"
    }
   ],
   "source": [
    "type(ok)"
   ]
  },
  {
   "cell_type": "code",
   "execution_count": 86,
   "id": "ecc2960d-1913-4f68-afb4-1abea1378826",
   "metadata": {},
   "outputs": [],
   "source": [
    "symbol_price = float(ok)"
   ]
  },
  {
   "cell_type": "code",
   "execution_count": 87,
   "id": "1f4d2433-49e7-4628-b0bd-b7c081f6dc60",
   "metadata": {},
   "outputs": [
    {
     "data": {
      "text/plain": [
       "float"
      ]
     },
     "execution_count": 87,
     "metadata": {},
     "output_type": "execute_result"
    }
   ],
   "source": [
    "type(symbol_price)"
   ]
  },
  {
   "cell_type": "code",
   "execution_count": 88,
   "id": "a5040877-2af2-4920-afe8-c01976d7bea6",
   "metadata": {},
   "outputs": [
    {
     "data": {
      "text/plain": [
       "str"
      ]
     },
     "execution_count": 88,
     "metadata": {},
     "output_type": "execute_result"
    }
   ],
   "source": [
    "type(ok)"
   ]
  },
  {
   "cell_type": "code",
   "execution_count": 89,
   "id": "78292175-86e3-4735-9273-fd3c6336b408",
   "metadata": {},
   "outputs": [
    {
     "data": {
      "text/plain": [
       "13.05"
      ]
     },
     "execution_count": 89,
     "metadata": {},
     "output_type": "execute_result"
    }
   ],
   "source": [
    "portion"
   ]
  },
  {
   "cell_type": "code",
   "execution_count": 90,
   "id": "4947e722-b9f6-4150-b74f-c835109c075f",
   "metadata": {},
   "outputs": [],
   "source": [
    "import math\n",
    "\n",
    "check = math.floor(portion)\n",
    "# Returns: 12"
   ]
  },
  {
   "cell_type": "code",
   "execution_count": 91,
   "id": "226afeff-a7da-4a11-b0a9-1e8472a8fc5e",
   "metadata": {},
   "outputs": [
    {
     "data": {
      "text/plain": [
       "int"
      ]
     },
     "execution_count": 91,
     "metadata": {},
     "output_type": "execute_result"
    }
   ],
   "source": [
    "type(check)"
   ]
  },
  {
   "cell_type": "code",
   "execution_count": 92,
   "id": "0670613c-0799-41dc-9b3d-d538e2bc4583",
   "metadata": {},
   "outputs": [],
   "source": [
    "qty = float(check)"
   ]
  },
  {
   "cell_type": "code",
   "execution_count": 93,
   "id": "7bb93622-bb2a-412c-b756-e01bebf3e54b",
   "metadata": {},
   "outputs": [
    {
     "data": {
      "text/plain": [
       "13.0"
      ]
     },
     "execution_count": 93,
     "metadata": {},
     "output_type": "execute_result"
    }
   ],
   "source": [
    "qty"
   ]
  },
  {
   "cell_type": "code",
   "execution_count": 94,
   "id": "0188700b-4110-46fc-a19a-5904903c4e13",
   "metadata": {},
   "outputs": [],
   "source": [
    "from decimal import Decimal as D, ROUND_DOWN, ROUND_UP\n",
    "import decimal"
   ]
  },
  {
   "cell_type": "code",
   "execution_count": 95,
   "id": "12c4204c-7e4f-402f-bd7b-3bb07596f331",
   "metadata": {},
   "outputs": [],
   "source": [
    "order = client.order_limit_buy(\n",
    "    symbol=symbols,\n",
    "    quantity=qty,\n",
    "    price=ok)\n",
    "\n",
    "#order = client.order_limit_sell(\n",
    "    #symbol='BNBBTC',\n",
    "    #quantity=100,\n",
    "    #price='0.00001')"
   ]
  },
  {
   "cell_type": "code",
   "execution_count": 103,
   "id": "a312b1b5-1fe9-480a-92ce-fd2807abbfb1",
   "metadata": {},
   "outputs": [],
   "source": [
    "add = float(ok)*1.05"
   ]
  },
  {
   "cell_type": "code",
   "execution_count": 111,
   "id": "88af41dc-583b-4146-ad09-5a9f59df1e5e",
   "metadata": {},
   "outputs": [],
   "source": [
    "added = add / 1e8"
   ]
  },
  {
   "cell_type": "code",
   "execution_count": 121,
   "id": "6f6d8762-f811-4fe2-964e-c1a58aff15c8",
   "metadata": {},
   "outputs": [],
   "source": [
    "move = ('{0:.8f}'.format(add))"
   ]
  },
  {
   "cell_type": "code",
   "execution_count": 123,
   "id": "e0d003d0-e896-4385-8f36-e6d4f8ee1f03",
   "metadata": {},
   "outputs": [
    {
     "data": {
      "text/plain": [
       "str"
      ]
     },
     "execution_count": 123,
     "metadata": {},
     "output_type": "execute_result"
    }
   ],
   "source": [
    "type(move)"
   ]
  },
  {
   "cell_type": "code",
   "execution_count": null,
   "id": "aa39fad6-dcb3-42ab-8a9a-45f0546a5817",
   "metadata": {},
   "outputs": [],
   "source": [
    "order = client.order_limit_sell(\n",
    "    symbol=symbols,\n",
    "    quantity=qty,\n",
    "    price=move)"
   ]
  },
  {
   "cell_type": "markdown",
   "id": "1b8a5283-b6e2-41eb-9535-6c5e08a9512d",
   "metadata": {
    "tags": []
   },
   "source": [
    "## next order"
   ]
  },
  {
   "cell_type": "code",
   "execution_count": 340,
   "id": "969120ec-3bbf-4e59-9d68-a15cd4f386ae",
   "metadata": {},
   "outputs": [],
   "source": [
    "#sym = result[i-1]\n",
    "sym = 'WTC'"
   ]
  },
  {
   "cell_type": "code",
   "execution_count": 341,
   "id": "2cab0c91-c827-4a15-8e78-bf51679006a0",
   "metadata": {},
   "outputs": [],
   "source": [
    "symbol1 = [sym+'BTC']"
   ]
  },
  {
   "cell_type": "code",
   "execution_count": 342,
   "id": "6fdc1517-4f97-435c-93c4-5b05312535fd",
   "metadata": {},
   "outputs": [
    {
     "data": {
      "text/plain": [
       "list"
      ]
     },
     "execution_count": 342,
     "metadata": {},
     "output_type": "execute_result"
    }
   ],
   "source": [
    "type(symbol1)"
   ]
  },
  {
   "cell_type": "code",
   "execution_count": 343,
   "id": "ca40960b-b0d4-4915-95d8-b1e026a95bd7",
   "metadata": {},
   "outputs": [],
   "source": [
    "sym1= symbol1[0]"
   ]
  },
  {
   "cell_type": "code",
   "execution_count": 344,
   "id": "412cb1c5-1fe4-48fb-a373-8bc557f6fec4",
   "metadata": {},
   "outputs": [
    {
     "data": {
      "text/plain": [
       "str"
      ]
     },
     "execution_count": 344,
     "metadata": {},
     "output_type": "execute_result"
    }
   ],
   "source": [
    "type(sym1)"
   ]
  },
  {
   "cell_type": "code",
   "execution_count": 345,
   "id": "410dadaf-8f20-4da7-8c73-5a8b488194e5",
   "metadata": {},
   "outputs": [],
   "source": [
    "prizes = client.get_historical_klines(sym1, Client.KLINE_INTERVAL_1MINUTE, \"1 minute ago UTC\")"
   ]
  },
  {
   "cell_type": "code",
   "execution_count": 346,
   "id": "561bb7b0-4eb6-48b3-8edf-6c40d5b1ef3f",
   "metadata": {},
   "outputs": [],
   "source": [
    "i = prizes[0]"
   ]
  },
  {
   "cell_type": "code",
   "execution_count": 347,
   "id": "6edc6175-d463-484e-b6ca-e2ec28b4767b",
   "metadata": {},
   "outputs": [],
   "source": [
    "ok = i[1]"
   ]
  },
  {
   "cell_type": "code",
   "execution_count": 348,
   "id": "65952825-5eeb-4d38-bb19-604ba7f2a601",
   "metadata": {},
   "outputs": [],
   "source": [
    "ff = float(ok)"
   ]
  },
  {
   "cell_type": "code",
   "execution_count": 349,
   "id": "7c1bb133-52c2-496d-a9b2-798b33520799",
   "metadata": {},
   "outputs": [],
   "source": [
    "using_btc = '0.00011'"
   ]
  },
  {
   "cell_type": "code",
   "execution_count": 350,
   "id": "296d6f4c-a087-4969-b0bb-0bff833d1f20",
   "metadata": {},
   "outputs": [],
   "source": [
    "dd =float(using_btc)"
   ]
  },
  {
   "cell_type": "code",
   "execution_count": 351,
   "id": "caa2237e-4ed3-4640-811e-ddd9297578ef",
   "metadata": {},
   "outputs": [],
   "source": [
    "quantiti = dd/ff"
   ]
  },
  {
   "cell_type": "code",
   "execution_count": 352,
   "id": "155380a8-6798-44d4-9092-5eee28639130",
   "metadata": {},
   "outputs": [],
   "source": [
    "import math\n",
    "\n",
    "check = math.floor(quantiti)\n",
    "# Returns: 12"
   ]
  },
  {
   "cell_type": "code",
   "execution_count": 353,
   "id": "bf447db1-be7c-4e5c-a486-9726c2254fef",
   "metadata": {},
   "outputs": [],
   "source": [
    "qty = float(check)"
   ]
  },
  {
   "cell_type": "code",
   "execution_count": 354,
   "id": "f2aec353-e969-47a1-aaa3-c014572ed330",
   "metadata": {},
   "outputs": [
    {
     "data": {
      "text/plain": [
       "13.0"
      ]
     },
     "execution_count": 354,
     "metadata": {},
     "output_type": "execute_result"
    }
   ],
   "source": [
    "qty"
   ]
  },
  {
   "cell_type": "code",
   "execution_count": 312,
   "id": "1838d614-197c-4bff-b4fe-d05fedafdd99",
   "metadata": {},
   "outputs": [],
   "source": [
    "info = client.get_symbol_info(symbol=sym1)"
   ]
  },
  {
   "cell_type": "code",
   "execution_count": 313,
   "id": "e837abe3-400a-45f5-852a-3109756b4712",
   "metadata": {},
   "outputs": [],
   "source": [
    "order = client.order_limit_buy(\n",
    "    symbol=sym1,\n",
    "    quantity=qty,\n",
    "    price=ok)"
   ]
  },
  {
   "cell_type": "markdown",
   "id": "d532277b-02d6-42a5-9728-36e65a7ed65d",
   "metadata": {},
   "source": [
    "## selling"
   ]
  },
  {
   "cell_type": "code",
   "execution_count": 382,
   "id": "2d7e0704-959b-4d08-b54e-9d6f381d4c6b",
   "metadata": {},
   "outputs": [],
   "source": [
    "prizes = client.get_historical_klines(sym1, Client.KLINE_INTERVAL_1MINUTE, \"1 minute ago UTC\")"
   ]
  },
  {
   "cell_type": "code",
   "execution_count": 383,
   "id": "f79069a8-db1d-486b-9632-f617da8f98d6",
   "metadata": {},
   "outputs": [],
   "source": [
    "i = prizes[0]"
   ]
  },
  {
   "cell_type": "code",
   "execution_count": 384,
   "id": "4fcfcc6d-03ea-4564-aa7a-86fdd3ef8b4d",
   "metadata": {},
   "outputs": [],
   "source": [
    "ok = i[1]"
   ]
  },
  {
   "cell_type": "code",
   "execution_count": 385,
   "id": "c39cb852-8b85-4dfb-b1a9-324323195546",
   "metadata": {},
   "outputs": [],
   "source": [
    "add = float(ok)*1.05"
   ]
  },
  {
   "cell_type": "code",
   "execution_count": 386,
   "id": "a1c59910-d8cd-4742-97d8-f3996f7804ec",
   "metadata": {},
   "outputs": [],
   "source": [
    "move = ('{0:.8f}'.format(add))"
   ]
  },
  {
   "cell_type": "code",
   "execution_count": 387,
   "id": "ff52f7b1-ff43-4657-bb07-1f7266424a4a",
   "metadata": {},
   "outputs": [
    {
     "data": {
      "text/plain": [
       "str"
      ]
     },
     "execution_count": 387,
     "metadata": {},
     "output_type": "execute_result"
    }
   ],
   "source": [
    "type(move)"
   ]
  },
  {
   "cell_type": "code",
   "execution_count": 388,
   "id": "9bf04409-93e7-4fed-a786-7d70643d3ac3",
   "metadata": {},
   "outputs": [
    {
     "data": {
      "text/plain": [
       "'0.00000814'"
      ]
     },
     "execution_count": 388,
     "metadata": {},
     "output_type": "execute_result"
    }
   ],
   "source": [
    "move"
   ]
  },
  {
   "cell_type": "code",
   "execution_count": 390,
   "id": "b846ed6a-33e4-40c6-8444-525c5fa4c5a2",
   "metadata": {},
   "outputs": [
    {
     "data": {
      "text/plain": [
       "0.0001036485"
      ]
     },
     "execution_count": 390,
     "metadata": {},
     "output_type": "execute_result"
    }
   ],
   "source": [
    "portion"
   ]
  },
  {
   "cell_type": "code",
   "execution_count": 391,
   "id": "db5dcde9-596d-48b4-a3a0-d004b19a99d9",
   "metadata": {},
   "outputs": [],
   "source": [
    "order = client.order_limit_sell(\n",
    "    symbol=sym1,\n",
    "    quantity=qty,\n",
    "    price=move)"
   ]
  },
  {
   "cell_type": "code",
   "execution_count": null,
   "id": "ad7eed65-719c-44e7-8683-2c5f79f02d52",
   "metadata": {},
   "outputs": [],
   "source": []
  }
 ],
 "metadata": {
  "kernelspec": {
   "display_name": "Python 3 (ipykernel)",
   "language": "python",
   "name": "python3"
  },
  "language_info": {
   "codemirror_mode": {
    "name": "ipython",
    "version": 3
   },
   "file_extension": ".py",
   "mimetype": "text/x-python",
   "name": "python",
   "nbconvert_exporter": "python",
   "pygments_lexer": "ipython3",
   "version": "3.9.7"
  }
 },
 "nbformat": 4,
 "nbformat_minor": 5
}
